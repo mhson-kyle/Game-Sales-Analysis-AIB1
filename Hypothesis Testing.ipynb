{
 "cells": [
  {
   "cell_type": "markdown",
   "id": "dd756be4-e757-4d29-a514-76b9f90daece",
   "metadata": {
    "jp-MarkdownHeadingCollapsed": true,
    "tags": []
   },
   "source": [
    "# Hypothesis"
   ]
  },
  {
   "cell_type": "code",
   "execution_count": 1,
   "id": "bfc3aa34-0ccc-4edd-8091-e2223b0856a7",
   "metadata": {},
   "outputs": [],
   "source": [
    "import pandas as pd\n",
    "import numpy as np\n",
    "import matplotlib.pyplot as plt\n",
    "from scipy import stats\n",
    "import seaborn as sns\n",
    "from scipy.stats import chisquare"
   ]
  },
  {
   "cell_type": "code",
   "execution_count": 2,
   "id": "4deacc77-4370-4eb1-9d37-7d52a6f2d759",
   "metadata": {},
   "outputs": [
    {
     "data": {
      "text/html": [
       "<div>\n",
       "<style scoped>\n",
       "    .dataframe tbody tr th:only-of-type {\n",
       "        vertical-align: middle;\n",
       "    }\n",
       "\n",
       "    .dataframe tbody tr th {\n",
       "        vertical-align: top;\n",
       "    }\n",
       "\n",
       "    .dataframe thead th {\n",
       "        text-align: right;\n",
       "    }\n",
       "</style>\n",
       "<table border=\"1\" class=\"dataframe\">\n",
       "  <thead>\n",
       "    <tr style=\"text-align: right;\">\n",
       "      <th></th>\n",
       "      <th>Name</th>\n",
       "      <th>Platform</th>\n",
       "      <th>Year</th>\n",
       "      <th>Genre</th>\n",
       "      <th>Publisher</th>\n",
       "      <th>NA_Sales</th>\n",
       "      <th>EU_Sales</th>\n",
       "      <th>JP_Sales</th>\n",
       "      <th>Other_Sales</th>\n",
       "      <th>Total_Sales</th>\n",
       "    </tr>\n",
       "  </thead>\n",
       "  <tbody>\n",
       "    <tr>\n",
       "      <th>1</th>\n",
       "      <td>Candace Kane's Candy Factory</td>\n",
       "      <td>DS</td>\n",
       "      <td>2008</td>\n",
       "      <td>Action</td>\n",
       "      <td>Destineer</td>\n",
       "      <td>0.04</td>\n",
       "      <td>0.00</td>\n",
       "      <td>0.00</td>\n",
       "      <td>0.00</td>\n",
       "      <td>0.04</td>\n",
       "    </tr>\n",
       "    <tr>\n",
       "      <th>2</th>\n",
       "      <td>The Munchables</td>\n",
       "      <td>Wii</td>\n",
       "      <td>2009</td>\n",
       "      <td>Action</td>\n",
       "      <td>Namco Bandai Games</td>\n",
       "      <td>0.17</td>\n",
       "      <td>0.00</td>\n",
       "      <td>0.00</td>\n",
       "      <td>0.01</td>\n",
       "      <td>0.18</td>\n",
       "    </tr>\n",
       "    <tr>\n",
       "      <th>3</th>\n",
       "      <td>Otome wa Oanesama Boku ni Koi Shiteru Portable</td>\n",
       "      <td>PSP</td>\n",
       "      <td>2010</td>\n",
       "      <td>Adventure</td>\n",
       "      <td>Alchemist</td>\n",
       "      <td>0.00</td>\n",
       "      <td>0.00</td>\n",
       "      <td>0.02</td>\n",
       "      <td>0.00</td>\n",
       "      <td>0.02</td>\n",
       "    </tr>\n",
       "    <tr>\n",
       "      <th>4</th>\n",
       "      <td>Deal or No Deal: Special Edition</td>\n",
       "      <td>DS</td>\n",
       "      <td>2010</td>\n",
       "      <td>Misc</td>\n",
       "      <td>Zoo Games</td>\n",
       "      <td>0.04</td>\n",
       "      <td>0.00</td>\n",
       "      <td>0.00</td>\n",
       "      <td>0.00</td>\n",
       "      <td>0.04</td>\n",
       "    </tr>\n",
       "    <tr>\n",
       "      <th>5</th>\n",
       "      <td>Ben 10 Ultimate Alien: Cosmic Destruction</td>\n",
       "      <td>PS3</td>\n",
       "      <td>2010</td>\n",
       "      <td>Platform</td>\n",
       "      <td>D3Publisher</td>\n",
       "      <td>0.12</td>\n",
       "      <td>0.09</td>\n",
       "      <td>0.00</td>\n",
       "      <td>0.04</td>\n",
       "      <td>0.25</td>\n",
       "    </tr>\n",
       "  </tbody>\n",
       "</table>\n",
       "</div>"
      ],
      "text/plain": [
       "                                             Name Platform  Year      Genre  \\\n",
       "1                    Candace Kane's Candy Factory       DS  2008     Action   \n",
       "2                                  The Munchables      Wii  2009     Action   \n",
       "3  Otome wa Oanesama Boku ni Koi Shiteru Portable      PSP  2010  Adventure   \n",
       "4                Deal or No Deal: Special Edition       DS  2010       Misc   \n",
       "5       Ben 10 Ultimate Alien: Cosmic Destruction      PS3  2010   Platform   \n",
       "\n",
       "            Publisher  NA_Sales  EU_Sales  JP_Sales  Other_Sales  Total_Sales  \n",
       "1           Destineer      0.04      0.00      0.00         0.00         0.04  \n",
       "2  Namco Bandai Games      0.17      0.00      0.00         0.01         0.18  \n",
       "3           Alchemist      0.00      0.00      0.02         0.00         0.02  \n",
       "4           Zoo Games      0.04      0.00      0.00         0.00         0.04  \n",
       "5         D3Publisher      0.12      0.09      0.00         0.04         0.25  "
      ]
     },
     "execution_count": 2,
     "metadata": {},
     "output_type": "execute_result"
    }
   ],
   "source": [
    "game = pd.read_csv('vgames2_clean.csv', index_col = 0)\n",
    "game.head()"
   ]
  },
  {
   "cell_type": "markdown",
   "id": "2b5a0a20-daac-4457-a9a5-f8df29ba492d",
   "metadata": {
    "jp-MarkdownHeadingCollapsed": true,
    "tags": []
   },
   "source": [
    "# 1. Platform Nintendo Hypothesis Testing"
   ]
  },
  {
   "cell_type": "code",
   "execution_count": 3,
   "id": "c722ffc2-e997-4b9a-8bb1-4108335a1172",
   "metadata": {},
   "outputs": [],
   "source": [
    "game_clean = game.copy()\n",
    "nintendo_df = game_clean.groupby('Platform').mean().T"
   ]
  },
  {
   "cell_type": "code",
   "execution_count": 4,
   "id": "de64b91d-e34e-4fb8-ab8d-e6acff904923",
   "metadata": {},
   "outputs": [
    {
     "data": {
      "text/plain": [
       "0.050199942878025934"
      ]
     },
     "execution_count": 4,
     "metadata": {},
     "output_type": "execute_result"
    }
   ],
   "source": [
    "# Nintendo Platform and Non Nintendo \n",
    "# Difference in mean Total_Sales T-Test\n",
    "\n",
    "nintendo = ['3DS', 'DS', 'GB', 'GBA', 'N64', 'NES', 'SNES', 'Wii', 'GC', 'WiiU']\n",
    "nintendo_df = game_clean[game_clean['Platform'].isin(nintendo)]\n",
    "non_nintendo_df = game_clean[~game_clean['Platform'].isin(nintendo)]\n",
    "pv = stats.ttest_ind(nintendo_df['Total_Sales'], non_nintendo_df['Total_Sales'], alternative = 'greater')\n",
    "pv[1]"
   ]
  },
  {
   "cell_type": "markdown",
   "id": "6ca62d3d-9caa-4d9c-8e04-1ea5caf2711f",
   "metadata": {
    "jp-MarkdownHeadingCollapsed": true,
    "tags": []
   },
   "source": [
    "# 2. Publisher Nintendo Hypothesis Testing"
   ]
  },
  {
   "cell_type": "code",
   "execution_count": 5,
   "id": "fa680bd8-e15d-430c-9745-30b2a230cde9",
   "metadata": {},
   "outputs": [
    {
     "data": {
      "text/plain": [
       "4.282189918448494e-268"
      ]
     },
     "execution_count": 5,
     "metadata": {},
     "output_type": "execute_result"
    }
   ],
   "source": [
    "# Nintendo Publisher and Non Nintendo \n",
    "# Difference in mean Total_Sales T-Test\n",
    "\n",
    "nintendo_df = game_clean[game_clean['Publisher'] == 'Nintendo']\n",
    "non_nintendo_df = game_clean[game_clean['Publisher'] != 'Nintendo']\n",
    "pv = stats.ttest_ind(nintendo_df['Total_Sales'], non_nintendo_df['Total_Sales'], alternative = 'greater')\n",
    "pv[1]"
   ]
  },
  {
   "cell_type": "markdown",
   "id": "d7f86743-619e-4837-b835-7f7d16c984a5",
   "metadata": {
    "jp-MarkdownHeadingCollapsed": true,
    "tags": []
   },
   "source": [
    "# 3. Genre Shooter Hypothesis Testing"
   ]
  },
  {
   "cell_type": "code",
   "execution_count": 6,
   "id": "2fa5eb6b-224c-4643-b85f-6983b34775aa",
   "metadata": {},
   "outputs": [
    {
     "data": {
      "text/plain": [
       "8.295663175607912e-16"
      ]
     },
     "execution_count": 6,
     "metadata": {},
     "output_type": "execute_result"
    }
   ],
   "source": [
    "# Platform Genre and Non Platform Genre \n",
    "# Difference in mean Total_Sales T-Test\n",
    "\n",
    "platform_df = game_clean[(game_clean['Genre'] == 'Platform')]\n",
    "non_Platform_df = game_clean[(game_clean['Genre'] != 'Platform')]\n",
    "pv = stats.ttest_ind(platform_df['Total_Sales'], non_Platform_df['Total_Sales'], alternative = 'greater')\n",
    "pv[1]"
   ]
  },
  {
   "cell_type": "markdown",
   "id": "efc8740c-4ce6-4cc3-bd8a-93fb4c88455a",
   "metadata": {
    "jp-MarkdownHeadingCollapsed": true,
    "tags": []
   },
   "source": [
    "# 4. Chi Square 독립성 확인"
   ]
  },
  {
   "cell_type": "code",
   "execution_count": 7,
   "id": "969d3609-e4a3-4fab-8aa3-05eda4a1ea3e",
   "metadata": {},
   "outputs": [
    {
     "name": "stderr",
     "output_type": "stream",
     "text": [
      "/var/folders/dw/94thms1n5817tsrqwqcs_3rr0000gn/T/ipykernel_27557/3600313486.py:1: FutureWarning: Dropping of nuisance columns in DataFrame reductions (with 'numeric_only=None') is deprecated; in a future version this will raise TypeError.  Select only valid columns before calling the reduction.\n",
      "  mean_sales = game_clean.mean()[1:-1]\n"
     ]
    },
    {
     "data": {
      "text/plain": [
       "Power_divergenceResult(statistic=0.20776758577605448, pvalue=0.9763257091555876)"
      ]
     },
     "execution_count": 7,
     "metadata": {},
     "output_type": "execute_result"
    }
   ],
   "source": [
    "mean_sales = game_clean.mean()[1:-1]\n",
    "chisquare(mean_sales)"
   ]
  },
  {
   "cell_type": "code",
   "execution_count": 8,
   "id": "f3574794-53ca-4095-95a6-d5b893f29994",
   "metadata": {},
   "outputs": [
    {
     "data": {
      "text/plain": [
       "Power_divergenceResult(statistic=3353.7843695970714, pvalue=0.0)"
      ]
     },
     "execution_count": 8,
     "metadata": {},
     "output_type": "execute_result"
    }
   ],
   "source": [
    "sum_sales = game_clean.sum()[-5:-1]\n",
    "chisquare(sum_sales)"
   ]
  },
  {
   "cell_type": "code",
   "execution_count": 9,
   "id": "3de1412a-ee3c-4961-9fb2-8c1db1151b8c",
   "metadata": {},
   "outputs": [
    {
     "data": {
      "text/plain": [
       "Power_divergenceResult(statistic=12675.727010303386, pvalue=0.0)"
      ]
     },
     "execution_count": 9,
     "metadata": {},
     "output_type": "execute_result"
    }
   ],
   "source": [
    "sum_genre = game_clean.groupby('Platform').sum()['Total_Sales']\n",
    "chisquare(sum_genre)"
   ]
  },
  {
   "cell_type": "code",
   "execution_count": 10,
   "id": "8aaf05ec-a1ef-4f13-b85c-cb8ec3ad6964",
   "metadata": {},
   "outputs": [
    {
     "data": {
      "text/plain": [
       "Power_divergenceResult(statistic=18.915511070732638, pvalue=0.941759213960315)"
      ]
     },
     "execution_count": 10,
     "metadata": {},
     "output_type": "execute_result"
    }
   ],
   "source": [
    "mean_genre = game_clean.groupby('Platform').mean()['Total_Sales']\n",
    "chisquare(mean_genre)"
   ]
  }
 ],
 "metadata": {
  "kernelspec": {
   "display_name": "Python 3 (ipykernel)",
   "language": "python",
   "name": "python3"
  },
  "language_info": {
   "codemirror_mode": {
    "name": "ipython",
    "version": 3
   },
   "file_extension": ".py",
   "mimetype": "text/x-python",
   "name": "python",
   "nbconvert_exporter": "python",
   "pygments_lexer": "ipython3",
   "version": "3.10.3"
  }
 },
 "nbformat": 4,
 "nbformat_minor": 5
}
