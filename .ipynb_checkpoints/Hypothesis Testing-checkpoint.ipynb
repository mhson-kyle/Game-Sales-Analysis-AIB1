{
 "cells": [
  {
   "cell_type": "markdown",
   "id": "dd756be4-e757-4d29-a514-76b9f90daece",
   "metadata": {
    "tags": []
   },
   "source": [
    "# Hypothesis"
   ]
  },
  {
   "cell_type": "code",
   "execution_count": 41,
   "id": "bfc3aa34-0ccc-4edd-8091-e2223b0856a7",
   "metadata": {},
   "outputs": [],
   "source": [
    "import pandas as pd\n",
    "import numpy as np\n",
    "import matplotlib.pyplot as plt\n",
    "from scipy import stats\n"
   ]
  },
  {
   "cell_type": "code",
   "execution_count": 9,
   "id": "4deacc77-4370-4eb1-9d37-7d52a6f2d759",
   "metadata": {},
   "outputs": [
    {
     "data": {
      "text/html": [
       "<div>\n",
       "<style scoped>\n",
       "    .dataframe tbody tr th:only-of-type {\n",
       "        vertical-align: middle;\n",
       "    }\n",
       "\n",
       "    .dataframe tbody tr th {\n",
       "        vertical-align: top;\n",
       "    }\n",
       "\n",
       "    .dataframe thead th {\n",
       "        text-align: right;\n",
       "    }\n",
       "</style>\n",
       "<table border=\"1\" class=\"dataframe\">\n",
       "  <thead>\n",
       "    <tr style=\"text-align: right;\">\n",
       "      <th></th>\n",
       "      <th>Name</th>\n",
       "      <th>Platform</th>\n",
       "      <th>Year</th>\n",
       "      <th>Genre</th>\n",
       "      <th>Publisher</th>\n",
       "      <th>NA_Sales</th>\n",
       "      <th>EU_Sales</th>\n",
       "      <th>JP_Sales</th>\n",
       "      <th>Other_Sales</th>\n",
       "      <th>Total_Sales</th>\n",
       "    </tr>\n",
       "  </thead>\n",
       "  <tbody>\n",
       "    <tr>\n",
       "      <th>1</th>\n",
       "      <td>Candace Kane's Candy Factory</td>\n",
       "      <td>DS</td>\n",
       "      <td>2008</td>\n",
       "      <td>Action</td>\n",
       "      <td>Destineer</td>\n",
       "      <td>0.04</td>\n",
       "      <td>0.00</td>\n",
       "      <td>0.00</td>\n",
       "      <td>0.00</td>\n",
       "      <td>0.04</td>\n",
       "    </tr>\n",
       "    <tr>\n",
       "      <th>2</th>\n",
       "      <td>The Munchables</td>\n",
       "      <td>Wii</td>\n",
       "      <td>2009</td>\n",
       "      <td>Action</td>\n",
       "      <td>Namco Bandai Games</td>\n",
       "      <td>0.17</td>\n",
       "      <td>0.00</td>\n",
       "      <td>0.00</td>\n",
       "      <td>0.01</td>\n",
       "      <td>0.18</td>\n",
       "    </tr>\n",
       "    <tr>\n",
       "      <th>3</th>\n",
       "      <td>Otome wa Oanesama Boku ni Koi Shiteru Portable</td>\n",
       "      <td>PSP</td>\n",
       "      <td>2010</td>\n",
       "      <td>Adventure</td>\n",
       "      <td>Alchemist</td>\n",
       "      <td>0.00</td>\n",
       "      <td>0.00</td>\n",
       "      <td>0.02</td>\n",
       "      <td>0.00</td>\n",
       "      <td>0.02</td>\n",
       "    </tr>\n",
       "    <tr>\n",
       "      <th>4</th>\n",
       "      <td>Deal or No Deal: Special Edition</td>\n",
       "      <td>DS</td>\n",
       "      <td>2010</td>\n",
       "      <td>Misc</td>\n",
       "      <td>Zoo Games</td>\n",
       "      <td>0.04</td>\n",
       "      <td>0.00</td>\n",
       "      <td>0.00</td>\n",
       "      <td>0.00</td>\n",
       "      <td>0.04</td>\n",
       "    </tr>\n",
       "    <tr>\n",
       "      <th>5</th>\n",
       "      <td>Ben 10 Ultimate Alien: Cosmic Destruction</td>\n",
       "      <td>PS3</td>\n",
       "      <td>2010</td>\n",
       "      <td>Platform</td>\n",
       "      <td>D3Publisher</td>\n",
       "      <td>0.12</td>\n",
       "      <td>0.09</td>\n",
       "      <td>0.00</td>\n",
       "      <td>0.04</td>\n",
       "      <td>0.25</td>\n",
       "    </tr>\n",
       "  </tbody>\n",
       "</table>\n",
       "</div>"
      ],
      "text/plain": [
       "                                             Name Platform  Year      Genre  \\\n",
       "1                    Candace Kane's Candy Factory       DS  2008     Action   \n",
       "2                                  The Munchables      Wii  2009     Action   \n",
       "3  Otome wa Oanesama Boku ni Koi Shiteru Portable      PSP  2010  Adventure   \n",
       "4                Deal or No Deal: Special Edition       DS  2010       Misc   \n",
       "5       Ben 10 Ultimate Alien: Cosmic Destruction      PS3  2010   Platform   \n",
       "\n",
       "            Publisher  NA_Sales  EU_Sales  JP_Sales  Other_Sales  Total_Sales  \n",
       "1           Destineer      0.04      0.00      0.00         0.00         0.04  \n",
       "2  Namco Bandai Games      0.17      0.00      0.00         0.01         0.18  \n",
       "3           Alchemist      0.00      0.00      0.02         0.00         0.02  \n",
       "4           Zoo Games      0.04      0.00      0.00         0.00         0.04  \n",
       "5         D3Publisher      0.12      0.09      0.00         0.04         0.25  "
      ]
     },
     "execution_count": 9,
     "metadata": {},
     "output_type": "execute_result"
    }
   ],
   "source": [
    "game = pd.read_csv('vgames2_clean.csv', index_col = 0)\n",
    "game.head()"
   ]
  },
  {
   "cell_type": "code",
   "execution_count": 76,
   "id": "ec05b69c-d939-4d1b-8bf9-3eee3494b2b8",
   "metadata": {},
   "outputs": [
    {
     "data": {
      "text/plain": [
       "array(['DS', 'Wii', 'PSP', 'PS3', 'PC', 'PS', 'GBA', 'PS4', 'PS2', 'XB',\n",
       "       'X360', 'GC', '3DS', '2600', 'SAT', 'GB', 'NES', 'DC', 'N64',\n",
       "       'XOne', 'SNES', 'WiiU', 'PSV', 'GEN', 'SCD', 'WS', 'NG', 'TG16',\n",
       "       '3DO', 'GG', 'PCFX'], dtype=object)"
      ]
     },
     "execution_count": 76,
     "metadata": {},
     "output_type": "execute_result"
    }
   ],
   "source": [
    "game['Platform'].unique()"
   ]
  },
  {
   "cell_type": "code",
   "execution_count": 184,
   "id": "ba66e741-a109-4a8d-8f58-2faa6dcf2ed9",
   "metadata": {},
   "outputs": [
    {
     "name": "stderr",
     "output_type": "stream",
     "text": [
      "/var/folders/dw/94thms1n5817tsrqwqcs_3rr0000gn/T/ipykernel_53517/421014270.py:2: FutureWarning: Dropping of nuisance columns in DataFrame reductions (with 'numeric_only=None') is deprecated; in a future version this will raise TypeError.  Select only valid columns before calling the reduction.\n",
      "  print(' nin : ', game[game['Platform'].isin(nintendo)].mean()['Total_Sales'])\n"
     ]
    },
    {
     "name": "stdout",
     "output_type": "stream",
     "text": [
      " nin :  0.5315233986060405\n",
      "non nin :  0.5435545766030347\n"
     ]
    },
    {
     "name": "stderr",
     "output_type": "stream",
     "text": [
      "/var/folders/dw/94thms1n5817tsrqwqcs_3rr0000gn/T/ipykernel_53517/421014270.py:3: FutureWarning: Dropping of nuisance columns in DataFrame reductions (with 'numeric_only=None') is deprecated; in a future version this will raise TypeError.  Select only valid columns before calling the reduction.\n",
      "  print('non nin : ', game[~game['Platform'].isin(nintendo)].mean()['Total_Sales'])\n"
     ]
    }
   ],
   "source": [
    "nintendo = ['3DS', 'DS', 'GB', 'GBA',  'NES', 'SNES', 'Wii', 'GC', 'WiiU']\n",
    "print(' nin : ', game[game['Platform'].isin(nintendo)].mean()['Total_Sales'])\n",
    "print('non nin : ', game[~game['Platform'].isin(nintendo)].mean()['Total_Sales'])"
   ]
  },
  {
   "cell_type": "markdown",
   "id": "2b5a0a20-daac-4457-a9a5-f8df29ba492d",
   "metadata": {
    "tags": []
   },
   "source": [
    "# Hypothesis Testing\n",
    "# Nintendo 플랫폼의 게임 평균 출고량이 다른 게임 회사들의 출고량 보다 높다"
   ]
  },
  {
   "cell_type": "code",
   "execution_count": 52,
   "id": "c722ffc2-e997-4b9a-8bb1-4108335a1172",
   "metadata": {},
   "outputs": [],
   "source": [
    "game_clean = game.copy()\n",
    "nintendo_df = game_clean.groupby('Platform').mean().T"
   ]
  },
  {
   "cell_type": "code",
   "execution_count": 179,
   "id": "c4a2e1df-97d9-475c-83b9-c273a8a8dfad",
   "metadata": {},
   "outputs": [
    {
     "data": {
      "text/html": [
       "<div>\n",
       "<style scoped>\n",
       "    .dataframe tbody tr th:only-of-type {\n",
       "        vertical-align: middle;\n",
       "    }\n",
       "\n",
       "    .dataframe tbody tr th {\n",
       "        vertical-align: top;\n",
       "    }\n",
       "\n",
       "    .dataframe thead th {\n",
       "        text-align: right;\n",
       "    }\n",
       "</style>\n",
       "<table border=\"1\" class=\"dataframe\">\n",
       "  <thead>\n",
       "    <tr style=\"text-align: right;\">\n",
       "      <th>Platform</th>\n",
       "      <th>2600</th>\n",
       "      <th>3DO</th>\n",
       "      <th>DC</th>\n",
       "      <th>GEN</th>\n",
       "      <th>GG</th>\n",
       "      <th>NG</th>\n",
       "      <th>PC</th>\n",
       "      <th>PCFX</th>\n",
       "      <th>PS</th>\n",
       "      <th>PS2</th>\n",
       "      <th>...</th>\n",
       "      <th>PSP</th>\n",
       "      <th>PSV</th>\n",
       "      <th>SAT</th>\n",
       "      <th>SCD</th>\n",
       "      <th>TG16</th>\n",
       "      <th>WS</th>\n",
       "      <th>X360</th>\n",
       "      <th>XB</th>\n",
       "      <th>XOne</th>\n",
       "      <th>Nintendo</th>\n",
       "    </tr>\n",
       "  </thead>\n",
       "  <tbody>\n",
       "    <tr>\n",
       "      <th>Year</th>\n",
       "      <td>227948.00</td>\n",
       "      <td>5984.0</td>\n",
       "      <td>103997.00</td>\n",
       "      <td>53812.00</td>\n",
       "      <td>1992.00</td>\n",
       "      <td>23934.00</td>\n",
       "      <td>1878195.00</td>\n",
       "      <td>1996.00</td>\n",
       "      <td>2367631.00</td>\n",
       "      <td>4251711.00</td>\n",
       "      <td>...</td>\n",
       "      <td>2396411.00</td>\n",
       "      <td>823738.00</td>\n",
       "      <td>345313.00</td>\n",
       "      <td>11963.00</td>\n",
       "      <td>3990.00</td>\n",
       "      <td>12000.00</td>\n",
       "      <td>2474164.00</td>\n",
       "      <td>1600906.00</td>\n",
       "      <td>427135.00</td>\n",
       "      <td>12286148.00</td>\n",
       "    </tr>\n",
       "    <tr>\n",
       "      <th>NA_Sales</th>\n",
       "      <td>80.32</td>\n",
       "      <td>0.0</td>\n",
       "      <td>5.43</td>\n",
       "      <td>19.27</td>\n",
       "      <td>0.00</td>\n",
       "      <td>0.00</td>\n",
       "      <td>92.03</td>\n",
       "      <td>0.00</td>\n",
       "      <td>333.79</td>\n",
       "      <td>568.54</td>\n",
       "      <td>...</td>\n",
       "      <td>106.50</td>\n",
       "      <td>16.07</td>\n",
       "      <td>0.72</td>\n",
       "      <td>1.00</td>\n",
       "      <td>0.00</td>\n",
       "      <td>0.00</td>\n",
       "      <td>593.78</td>\n",
       "      <td>179.24</td>\n",
       "      <td>83.19</td>\n",
       "      <td>1743.36</td>\n",
       "    </tr>\n",
       "    <tr>\n",
       "      <th>EU_Sales</th>\n",
       "      <td>4.83</td>\n",
       "      <td>0.0</td>\n",
       "      <td>1.69</td>\n",
       "      <td>5.52</td>\n",
       "      <td>0.00</td>\n",
       "      <td>0.00</td>\n",
       "      <td>136.51</td>\n",
       "      <td>0.00</td>\n",
       "      <td>211.75</td>\n",
       "      <td>332.03</td>\n",
       "      <td>...</td>\n",
       "      <td>67.15</td>\n",
       "      <td>16.27</td>\n",
       "      <td>0.54</td>\n",
       "      <td>0.36</td>\n",
       "      <td>0.00</td>\n",
       "      <td>0.00</td>\n",
       "      <td>277.90</td>\n",
       "      <td>58.37</td>\n",
       "      <td>45.63</td>\n",
       "      <td>772.37</td>\n",
       "    </tr>\n",
       "    <tr>\n",
       "      <th>JP_Sales</th>\n",
       "      <td>0.00</td>\n",
       "      <td>0.1</td>\n",
       "      <td>8.56</td>\n",
       "      <td>2.67</td>\n",
       "      <td>0.04</td>\n",
       "      <td>1.44</td>\n",
       "      <td>0.17</td>\n",
       "      <td>0.03</td>\n",
       "      <td>139.09</td>\n",
       "      <td>134.10</td>\n",
       "      <td>...</td>\n",
       "      <td>75.72</td>\n",
       "      <td>20.81</td>\n",
       "      <td>32.26</td>\n",
       "      <td>0.45</td>\n",
       "      <td>0.16</td>\n",
       "      <td>1.42</td>\n",
       "      <td>12.29</td>\n",
       "      <td>1.38</td>\n",
       "      <td>0.34</td>\n",
       "      <td>747.76</td>\n",
       "    </tr>\n",
       "    <tr>\n",
       "      <th>Other_Sales</th>\n",
       "      <td>0.83</td>\n",
       "      <td>0.0</td>\n",
       "      <td>0.27</td>\n",
       "      <td>0.89</td>\n",
       "      <td>0.00</td>\n",
       "      <td>0.00</td>\n",
       "      <td>24.24</td>\n",
       "      <td>0.00</td>\n",
       "      <td>40.53</td>\n",
       "      <td>187.77</td>\n",
       "      <td>...</td>\n",
       "      <td>41.47</td>\n",
       "      <td>8.41</td>\n",
       "      <td>0.07</td>\n",
       "      <td>0.05</td>\n",
       "      <td>0.00</td>\n",
       "      <td>0.00</td>\n",
       "      <td>84.62</td>\n",
       "      <td>8.31</td>\n",
       "      <td>11.92</td>\n",
       "      <td>190.52</td>\n",
       "    </tr>\n",
       "    <tr>\n",
       "      <th>Total_Sales</th>\n",
       "      <td>85.98</td>\n",
       "      <td>0.1</td>\n",
       "      <td>15.95</td>\n",
       "      <td>28.35</td>\n",
       "      <td>0.04</td>\n",
       "      <td>1.44</td>\n",
       "      <td>252.95</td>\n",
       "      <td>0.03</td>\n",
       "      <td>725.16</td>\n",
       "      <td>1222.44</td>\n",
       "      <td>...</td>\n",
       "      <td>290.84</td>\n",
       "      <td>61.56</td>\n",
       "      <td>33.59</td>\n",
       "      <td>1.86</td>\n",
       "      <td>0.16</td>\n",
       "      <td>1.42</td>\n",
       "      <td>968.59</td>\n",
       "      <td>247.30</td>\n",
       "      <td>141.08</td>\n",
       "      <td>3454.01</td>\n",
       "    </tr>\n",
       "  </tbody>\n",
       "</table>\n",
       "<p>6 rows × 22 columns</p>\n",
       "</div>"
      ],
      "text/plain": [
       "Platform          2600     3DO         DC       GEN       GG        NG  \\\n",
       "Year         227948.00  5984.0  103997.00  53812.00  1992.00  23934.00   \n",
       "NA_Sales         80.32     0.0       5.43     19.27     0.00      0.00   \n",
       "EU_Sales          4.83     0.0       1.69      5.52     0.00      0.00   \n",
       "JP_Sales          0.00     0.1       8.56      2.67     0.04      1.44   \n",
       "Other_Sales       0.83     0.0       0.27      0.89     0.00      0.00   \n",
       "Total_Sales      85.98     0.1      15.95     28.35     0.04      1.44   \n",
       "\n",
       "Platform             PC     PCFX          PS         PS2  ...         PSP  \\\n",
       "Year         1878195.00  1996.00  2367631.00  4251711.00  ...  2396411.00   \n",
       "NA_Sales          92.03     0.00      333.79      568.54  ...      106.50   \n",
       "EU_Sales         136.51     0.00      211.75      332.03  ...       67.15   \n",
       "JP_Sales           0.17     0.03      139.09      134.10  ...       75.72   \n",
       "Other_Sales       24.24     0.00       40.53      187.77  ...       41.47   \n",
       "Total_Sales      252.95     0.03      725.16     1222.44  ...      290.84   \n",
       "\n",
       "Platform           PSV        SAT       SCD     TG16        WS        X360  \\\n",
       "Year         823738.00  345313.00  11963.00  3990.00  12000.00  2474164.00   \n",
       "NA_Sales         16.07       0.72      1.00     0.00      0.00      593.78   \n",
       "EU_Sales         16.27       0.54      0.36     0.00      0.00      277.90   \n",
       "JP_Sales         20.81      32.26      0.45     0.16      1.42       12.29   \n",
       "Other_Sales       8.41       0.07      0.05     0.00      0.00       84.62   \n",
       "Total_Sales      61.56      33.59      1.86     0.16      1.42      968.59   \n",
       "\n",
       "Platform             XB       XOne     Nintendo  \n",
       "Year         1600906.00  427135.00  12286148.00  \n",
       "NA_Sales         179.24      83.19      1743.36  \n",
       "EU_Sales          58.37      45.63       772.37  \n",
       "JP_Sales           1.38       0.34       747.76  \n",
       "Other_Sales        8.31      11.92       190.52  \n",
       "Total_Sales      247.30     141.08      3454.01  \n",
       "\n",
       "[6 rows x 22 columns]"
      ]
     },
     "execution_count": 179,
     "metadata": {},
     "output_type": "execute_result"
    }
   ],
   "source": [
    "nintendo_df = game_clean.groupby('Platform').sum().T\n",
    "nintendo = ['3DS', 'DS', 'GB', 'GBA', 'N64', 'NES', 'SNES', 'Wii', 'GC', 'WiiU']\n",
    "nintendo_df['Nintendo'] = 0\n",
    "for i in nintendo:\n",
    "    nintendo_df['Nintendo'] += nintendo_df[i]\n",
    "nintendo_df = nintendo_df.drop(nintendo, axis = 1)\n",
    "nintendo_df"
   ]
  },
  {
   "cell_type": "code",
   "execution_count": 69,
   "id": "4eb34253-8ad1-43a2-bc72-ae1a691c7594",
   "metadata": {},
   "outputs": [
    {
     "data": {
      "text/plain": [
       "9.016041115493676"
      ]
     },
     "execution_count": 69,
     "metadata": {},
     "output_type": "execute_result"
    }
   ],
   "source": [
    "nintendo_df.loc['Total_Sales', 'Nintendo']\n",
    "game_clean.describe()"
   ]
  },
  {
   "cell_type": "code",
   "execution_count": 118,
   "id": "152238e7-4ba4-4d76-877f-e152b9a50bfe",
   "metadata": {},
   "outputs": [
    {
     "name": "stdout",
     "output_type": "stream",
     "text": [
      "nin 6124  non nin  :  10117\n"
     ]
    }
   ],
   "source": [
    "print('nin', len(nintendo_df), ' non nin  : ', len(non_nintendo_df))"
   ]
  },
  {
   "cell_type": "code",
   "execution_count": 125,
   "id": "de64b91d-e34e-4fb8-ab8d-e6acff904923",
   "metadata": {},
   "outputs": [
    {
     "data": {
      "text/plain": [
       "0.09131615481447795"
      ]
     },
     "execution_count": 125,
     "metadata": {},
     "output_type": "execute_result"
    }
   ],
   "source": [
    "nintendo = ['3DS', 'DS', 'GB', 'GBA', 'N64', 'NES', 'SNES', 'Wii', 'GC', 'WiiU']\n",
    "nintendo_df = game_clean[game_clean['Platform'].isin(nintendo)]\n",
    "non_nintendo_df = game_clean[~game_clean['Platform'].isin(nintendo)]\n",
    "pv2 = stats.ttest_ind(nintendo_df['Total_Sales'], non_nintendo_df['Total_Sales'].sample(6124), alternative = 'greater')\n",
    "pv2[1]"
   ]
  },
  {
   "cell_type": "code",
   "execution_count": 104,
   "id": "fa5e97d1-79c7-44c6-a06a-74074ed97db2",
   "metadata": {},
   "outputs": [],
   "source": [
    "# non_nintendo_df.describe()\n",
    "# nintendo_df.describe()"
   ]
  },
  {
   "cell_type": "markdown",
   "id": "6ca62d3d-9caa-4d9c-8e04-1ea5caf2711f",
   "metadata": {},
   "source": [
    "# 2. Hypothesis Testing 출판사"
   ]
  },
  {
   "cell_type": "code",
   "execution_count": 126,
   "id": "fa680bd8-e15d-430c-9745-30b2a230cde9",
   "metadata": {},
   "outputs": [
    {
     "data": {
      "text/plain": [
       "5.725111880708159e-20"
      ]
     },
     "execution_count": 126,
     "metadata": {},
     "output_type": "execute_result"
    }
   ],
   "source": [
    "nintendo_df = game_clean[game_clean['Publisher'] == 'Nintendo']\n",
    "non_nintendo_df = game_clean[game_clean['Publisher'] != 'Nintendo']\n",
    "pv = stats.ttest_ind(nintendo_df['Total_Sales'], non_nintendo_df['Total_Sales'].sample(692), alternative = 'greater')\n",
    "pv[1]"
   ]
  },
  {
   "cell_type": "code",
   "execution_count": 89,
   "id": "0cb576c5-7d09-4db8-a91e-83b6ab619205",
   "metadata": {},
   "outputs": [
    {
     "name": "stdout",
     "output_type": "stream",
     "text": [
      "nin 692  non nin  :  15549\n"
     ]
    }
   ],
   "source": [
    "print('nin', len(nintendo_df), ' non nin  : ', len(non_nintendo_df))"
   ]
  },
  {
   "cell_type": "markdown",
   "id": "d7f86743-619e-4837-b835-7f7d16c984a5",
   "metadata": {},
   "source": [
    "## Hypothesis Testing 장르"
   ]
  },
  {
   "cell_type": "code",
   "execution_count": 177,
   "id": "2fa5eb6b-224c-4643-b85f-6983b34775aa",
   "metadata": {},
   "outputs": [
    {
     "data": {
      "text/plain": [
       "0.5997774746843698"
      ]
     },
     "execution_count": 177,
     "metadata": {},
     "output_type": "execute_result"
    }
   ],
   "source": [
    "action_df = game_clean[(game_clean['Genre'] == 'Action') & (game_clean['Genre'] != 'Sports')]\n",
    "non_action_df = game_clean[(game_clean['Genre'] != 'Action') & (game_clean['Genre'] != 'Sports')]\n",
    "pv = stats.ttest_ind(action_df['Total_Sales'], non_action_df['Total_Sales'], alternative = 'greater')\n",
    "pv[1]"
   ]
  },
  {
   "cell_type": "code",
   "execution_count": 158,
   "id": "58e1c3c7-f090-4804-8d06-34fadb323632",
   "metadata": {},
   "outputs": [
    {
     "data": {
      "text/plain": [
       "3240"
      ]
     },
     "execution_count": 158,
     "metadata": {},
     "output_type": "execute_result"
    }
   ],
   "source": [
    "len(action_df)"
   ]
  },
  {
   "cell_type": "code",
   "execution_count": null,
   "id": "97535d95-d447-4f73-8940-3d04f60422c9",
   "metadata": {},
   "outputs": [],
   "source": []
  }
 ],
 "metadata": {
  "kernelspec": {
   "display_name": "Python 3 (ipykernel)",
   "language": "python",
   "name": "python3"
  },
  "language_info": {
   "codemirror_mode": {
    "name": "ipython",
    "version": 3
   },
   "file_extension": ".py",
   "mimetype": "text/x-python",
   "name": "python",
   "nbconvert_exporter": "python",
   "pygments_lexer": "ipython3",
   "version": "3.10.3"
  }
 },
 "nbformat": 4,
 "nbformat_minor": 5
}
